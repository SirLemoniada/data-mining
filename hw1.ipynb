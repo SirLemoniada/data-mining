{
 "cells": [
  {
   "cell_type": "markdown",
   "id": "1de83d1c",
   "metadata": {},
   "source": [
    "# 1"
   ]
  },
  {
   "cell_type": "markdown",
   "id": "49693047",
   "metadata": {},
   "source": [
    "### D"
   ]
  },
  {
   "cell_type": "markdown",
   "id": "386f0491",
   "metadata": {},
   "source": [
    "# 2"
   ]
  },
  {
   "cell_type": "code",
   "execution_count": 6,
   "id": "9f57c1ad",
   "metadata": {},
   "outputs": [
    {
     "ename": "ModuleNotFoundError",
     "evalue": "No module named 'sklearn'",
     "output_type": "error",
     "traceback": [
      "\u001b[1;31m---------------------------------------------------------------------------\u001b[0m",
      "\u001b[1;31mModuleNotFoundError\u001b[0m                       Traceback (most recent call last)",
      "Cell \u001b[1;32mIn [6], line 3\u001b[0m\n\u001b[0;32m      1\u001b[0m \u001b[39mimport\u001b[39;00m \u001b[39mnumpy\u001b[39;00m \u001b[39mas\u001b[39;00m \u001b[39mnp\u001b[39;00m\n\u001b[0;32m      2\u001b[0m \u001b[39mimport\u001b[39;00m \u001b[39mpandas\u001b[39;00m \u001b[39mas\u001b[39;00m \u001b[39mpd\u001b[39;00m\n\u001b[1;32m----> 3\u001b[0m \u001b[39mimport\u001b[39;00m \u001b[39msklearn\u001b[39;00m\u001b[39m.\u001b[39;00m\u001b[39mdatasets\u001b[39;00m\n\u001b[0;32m      4\u001b[0m \u001b[39mfrom\u001b[39;00m \u001b[39msklearn\u001b[39;00m\u001b[39m.\u001b[39;00m\u001b[39mpreprocessing\u001b[39;00m \u001b[39mimport\u001b[39;00m PolynomialFeatures\n",
      "\u001b[1;31mModuleNotFoundError\u001b[0m: No module named 'sklearn'"
     ]
    }
   ],
   "source": [
    "import numpy as np\n",
    "import pandas as pd\n",
    "import sklearn.datasets\n",
    "from sklearn.preprocessing import PolynomialFeatures"
   ]
  },
  {
   "cell_type": "code",
   "execution_count": null,
   "id": "38456689",
   "metadata": {},
   "outputs": [],
   "source": [
    "F1=np.array([5,6,8,10,4])\n",
    "F2=np.array([200,150,300,185,225])\n",
    "F3=np.array([50,60,80,25,40])"
   ]
  },
  {
   "cell_type": "code",
   "execution_count": null,
   "id": "4856ea04",
   "metadata": {
    "scrolled": true
   },
   "outputs": [
    {
     "data": {
      "text/plain": [
       "array([0.16666667, 0.33333333, 0.66666667, 1.        , 0.        ])"
      ]
     },
     "execution_count": 5,
     "metadata": {},
     "output_type": "execute_result"
    }
   ],
   "source": [
    "F1_minmax=(F1-min(F1))/(max(F1)-min(F1))\n",
    "F1_minmax"
   ]
  },
  {
   "cell_type": "code",
   "execution_count": null,
   "id": "30a10335",
   "metadata": {},
   "outputs": [
    {
     "data": {
      "text/plain": [
       "array([-0.33333333,  0.        ,  0.66666667,  1.33333333, -0.66666667])"
      ]
     },
     "execution_count": 6,
     "metadata": {},
     "output_type": "execute_result"
    }
   ],
   "source": [
    "F1_robust=(F1-np.median(F1))/(np.quantile(F1,0.75)-np.quantile(F1,0.25))\n",
    "F1_robust"
   ]
  },
  {
   "cell_type": "markdown",
   "id": "5c6dcfcc",
   "metadata": {},
   "source": [
    "# 3"
   ]
  },
  {
   "cell_type": "code",
   "execution_count": null,
   "id": "58da0517",
   "metadata": {},
   "outputs": [],
   "source": [
    "def return_gradient(x1,x2):\n",
    "    fdx1 = 4*x1**3 + 4*x2\n",
    "    fdx2 = 4*x1 + 2 + x2\n",
    "    return np.array([fdx1,fdx2])"
   ]
  },
  {
   "cell_type": "code",
   "execution_count": null,
   "id": "254e1a1b",
   "metadata": {},
   "outputs": [
    {
     "ename": "NameError",
     "evalue": "name 'np' is not defined",
     "output_type": "error",
     "traceback": [
      "\u001b[1;31m---------------------------------------------------------------------------\u001b[0m",
      "\u001b[1;31mNameError\u001b[0m                                 Traceback (most recent call last)",
      "Cell \u001b[1;32mIn [2], line 6\u001b[0m\n\u001b[0;32m      4\u001b[0m         x1, x2 \u001b[39m=\u001b[39m np\u001b[39m.\u001b[39marray([x1,x2]) \u001b[39m-\u001b[39m grad_f\u001b[39m*\u001b[39meta\n\u001b[0;32m      5\u001b[0m     \u001b[39mreturn\u001b[39;00m \u001b[39m\"\u001b[39m\u001b[39mAfter \u001b[39m\u001b[39m{0}\u001b[39;00m\u001b[39m iterations the value is \u001b[39m\u001b[39m{1}\u001b[39;00m\u001b[39m and the gradient is \u001b[39m\u001b[39m{2}\u001b[39;00m\u001b[39m\"\u001b[39m\u001b[39m.\u001b[39mformat(i\u001b[39m+\u001b[39m\u001b[39m1\u001b[39m, (x1, x2), grad_f)\n\u001b[1;32m----> 6\u001b[0m gradient_descent(\u001b[39m1\u001b[39;49m,\u001b[39m1\u001b[39;49m,\u001b[39m0.01\u001b[39;49m, \u001b[39m100\u001b[39;49m)\n",
      "Cell \u001b[1;32mIn [2], line 3\u001b[0m, in \u001b[0;36mgradient_descent\u001b[1;34m(x1, x2, eta, max_iter)\u001b[0m\n\u001b[0;32m      1\u001b[0m \u001b[39mdef\u001b[39;00m \u001b[39mgradient_descent\u001b[39m(x1,x2, eta, max_iter\u001b[39m=\u001b[39m\u001b[39m100\u001b[39m):\n\u001b[0;32m      2\u001b[0m     \u001b[39mfor\u001b[39;00m i \u001b[39min\u001b[39;00m \u001b[39mrange\u001b[39m(max_iter):\n\u001b[1;32m----> 3\u001b[0m         grad_f \u001b[39m=\u001b[39m return_gradient(x1,x2)\n\u001b[0;32m      4\u001b[0m         x1, x2 \u001b[39m=\u001b[39m np\u001b[39m.\u001b[39marray([x1,x2]) \u001b[39m-\u001b[39m grad_f\u001b[39m*\u001b[39meta\n\u001b[0;32m      5\u001b[0m     \u001b[39mreturn\u001b[39;00m \u001b[39m\"\u001b[39m\u001b[39mAfter \u001b[39m\u001b[39m{0}\u001b[39;00m\u001b[39m iterations the value is \u001b[39m\u001b[39m{1}\u001b[39;00m\u001b[39m and the gradient is \u001b[39m\u001b[39m{2}\u001b[39;00m\u001b[39m\"\u001b[39m\u001b[39m.\u001b[39mformat(i\u001b[39m+\u001b[39m\u001b[39m1\u001b[39m, (x1, x2), grad_f)\n",
      "Cell \u001b[1;32mIn [1], line 4\u001b[0m, in \u001b[0;36mreturn_gradient\u001b[1;34m(x1, x2)\u001b[0m\n\u001b[0;32m      2\u001b[0m fdx1 \u001b[39m=\u001b[39m \u001b[39m4\u001b[39m\u001b[39m*\u001b[39mx1\u001b[39m*\u001b[39m\u001b[39m*\u001b[39m\u001b[39m3\u001b[39m \u001b[39m+\u001b[39m \u001b[39m4\u001b[39m\u001b[39m*\u001b[39mx2\n\u001b[0;32m      3\u001b[0m fdx2 \u001b[39m=\u001b[39m \u001b[39m4\u001b[39m\u001b[39m*\u001b[39mx1 \u001b[39m+\u001b[39m \u001b[39m2\u001b[39m \u001b[39m+\u001b[39m x2\n\u001b[1;32m----> 4\u001b[0m \u001b[39mreturn\u001b[39;00m np\u001b[39m.\u001b[39marray([fdx1,fdx2])\n",
      "\u001b[1;31mNameError\u001b[0m: name 'np' is not defined"
     ]
    }
   ],
   "source": [
    "def gradient_descent(x1,x2, eta, max_iter=100):\n",
    "    for i in range(max_iter):\n",
    "        grad_f = return_gradient(x1,x2)\n",
    "        x1, x2 = np.array([x1,x2]) - grad_f*eta\n",
    "    return \"After {0} iterations the value is {1} and the gradient is {2}\".format(i+1, (x1, x2), grad_f)\n",
    "gradient_descent(1,1,0.01, 100)"
   ]
  },
  {
   "cell_type": "code",
   "execution_count": null,
   "id": "11d810d1",
   "metadata": {},
   "outputs": [],
   "source": [
    "def  eta_const(t,c):\n",
    "    return c"
   ]
  },
  {
   "cell_type": "code",
   "execution_count": null,
   "id": "47f49f65",
   "metadata": {},
   "outputs": [],
   "source": [
    "def eta_sqrt(t, c):\n",
    "    return c/((t+1)**1/2)"
   ]
  },
  {
   "cell_type": "code",
   "execution_count": null,
   "id": "bc20cffe",
   "metadata": {},
   "outputs": [],
   "source": [
    "def eta_multistep(t, milestones:list,eta_init, c=0.1):\n",
    "    if t<milestones[0]:\n",
    "        c = eta_init\n",
    "    if milestones[0]<=t<milestones[1]:\n",
    "        c = eta_init*c\n",
    "    if milestones[1]<=t<milestones[2]:\n",
    "        c = eta_init*c*c\n",
    "    else:\n",
    "        c = eta_init*c*c*c\n",
    "    return c"
   ]
  },
  {
   "cell_type": "code",
   "execution_count": null,
   "id": "0438eb49",
   "metadata": {},
   "outputs": [
    {
     "ename": "NameError",
     "evalue": "name 'np' is not defined",
     "output_type": "error",
     "traceback": [
      "\u001b[1;31m---------------------------------------------------------------------------\u001b[0m",
      "\u001b[1;31mNameError\u001b[0m                                 Traceback (most recent call last)",
      "Cell \u001b[1;32mIn [4], line 7\u001b[0m\n\u001b[0;32m      5\u001b[0m             eta \u001b[39m=\u001b[39m eta_const(i, eta)\n\u001b[0;32m      6\u001b[0m         \u001b[39mreturn\u001b[39;00m \u001b[39m\"\u001b[39m\u001b[39mAfter \u001b[39m\u001b[39m{0}\u001b[39;00m\u001b[39m iterations with constant step size the value of x100 is \u001b[39m\u001b[39m{1}\u001b[39;00m\u001b[39m and the gradient is \u001b[39m\u001b[39m{2}\u001b[39;00m\u001b[39m\"\u001b[39m\u001b[39m.\u001b[39mformat(i\u001b[39m+\u001b[39m\u001b[39m1\u001b[39m, (x1, x2), grad_f)\n\u001b[1;32m----> 7\u001b[0m gradient_descent_const_step(\u001b[39m1\u001b[39;49m,\u001b[39m1\u001b[39;49m,\u001b[39m0.01\u001b[39;49m, \u001b[39m100\u001b[39;49m)\n",
      "Cell \u001b[1;32mIn [4], line 3\u001b[0m, in \u001b[0;36mgradient_descent_const_step\u001b[1;34m(x1, x2, eta, max_iter)\u001b[0m\n\u001b[0;32m      1\u001b[0m \u001b[39mdef\u001b[39;00m \u001b[39mgradient_descent_const_step\u001b[39m(x1,x2, eta, max_iter\u001b[39m=\u001b[39m\u001b[39m100\u001b[39m):\n\u001b[0;32m      2\u001b[0m         \u001b[39mfor\u001b[39;00m i \u001b[39min\u001b[39;00m \u001b[39mrange\u001b[39m(max_iter):\n\u001b[1;32m----> 3\u001b[0m             grad_f \u001b[39m=\u001b[39m return_gradient(x1,x2)\n\u001b[0;32m      4\u001b[0m             x1, x2 \u001b[39m=\u001b[39m np\u001b[39m.\u001b[39marray([x1,x2]) \u001b[39m-\u001b[39m grad_f\u001b[39m*\u001b[39meta_const(i,eta)\n\u001b[0;32m      5\u001b[0m             eta \u001b[39m=\u001b[39m eta_const(i, eta)\n",
      "Cell \u001b[1;32mIn [1], line 4\u001b[0m, in \u001b[0;36mreturn_gradient\u001b[1;34m(x1, x2)\u001b[0m\n\u001b[0;32m      2\u001b[0m fdx1 \u001b[39m=\u001b[39m \u001b[39m4\u001b[39m\u001b[39m*\u001b[39mx1\u001b[39m*\u001b[39m\u001b[39m*\u001b[39m\u001b[39m3\u001b[39m \u001b[39m+\u001b[39m \u001b[39m4\u001b[39m\u001b[39m*\u001b[39mx2\n\u001b[0;32m      3\u001b[0m fdx2 \u001b[39m=\u001b[39m \u001b[39m4\u001b[39m\u001b[39m*\u001b[39mx1 \u001b[39m+\u001b[39m \u001b[39m2\u001b[39m \u001b[39m+\u001b[39m x2\n\u001b[1;32m----> 4\u001b[0m \u001b[39mreturn\u001b[39;00m np\u001b[39m.\u001b[39marray([fdx1,fdx2])\n",
      "\u001b[1;31mNameError\u001b[0m: name 'np' is not defined"
     ]
    }
   ],
   "source": [
    "def gradient_descent_const_step(x1,x2, eta, max_iter=100):\n",
    "        for i in range(max_iter):\n",
    "            grad_f = return_gradient(x1,x2)\n",
    "            x1, x2 = np.array([x1,x2]) - grad_f*eta_const(i,eta)\n",
    "            eta = eta_const(i, eta)\n",
    "        return \"After {0} iterations with constant step size the value of x100 is {1} and the gradient is {2}\".format(i+1, (x1, x2), grad_f)\n",
    "gradient_descent_const_step(1,1,0.01, 100)"
   ]
  },
  {
   "cell_type": "code",
   "execution_count": null,
   "id": "c9c2d525",
   "metadata": {},
   "outputs": [
    {
     "ename": "NameError",
     "evalue": "name 'np' is not defined",
     "output_type": "error",
     "traceback": [
      "\u001b[1;31m---------------------------------------------------------------------------\u001b[0m",
      "\u001b[1;31mNameError\u001b[0m                                 Traceback (most recent call last)",
      "Cell \u001b[1;32mIn [5], line 6\u001b[0m\n\u001b[0;32m      4\u001b[0m             x1, x2 \u001b[39m=\u001b[39m np\u001b[39m.\u001b[39marray([x1,x2]) \u001b[39m-\u001b[39m grad_f\u001b[39m*\u001b[39meta_sqrt(i, eta)\n\u001b[0;32m      5\u001b[0m         \u001b[39mreturn\u001b[39;00m \u001b[39m\"\u001b[39m\u001b[39mAfter \u001b[39m\u001b[39m{0}\u001b[39;00m\u001b[39m iterations with sqrt step size the value of x100 is \u001b[39m\u001b[39m{1}\u001b[39;00m\u001b[39m and the gradient is \u001b[39m\u001b[39m{2}\u001b[39;00m\u001b[39m\"\u001b[39m\u001b[39m.\u001b[39mformat(i\u001b[39m+\u001b[39m\u001b[39m1\u001b[39m, (x1, x2), grad_f)\n\u001b[1;32m----> 6\u001b[0m gradient_descent_sqrt_step(\u001b[39m1\u001b[39;49m,\u001b[39m1\u001b[39;49m,\u001b[39m0.01\u001b[39;49m, \u001b[39m100\u001b[39;49m)\n",
      "Cell \u001b[1;32mIn [5], line 3\u001b[0m, in \u001b[0;36mgradient_descent_sqrt_step\u001b[1;34m(x1, x2, eta, max_iter)\u001b[0m\n\u001b[0;32m      1\u001b[0m \u001b[39mdef\u001b[39;00m \u001b[39mgradient_descent_sqrt_step\u001b[39m(x1,x2, eta, max_iter\u001b[39m=\u001b[39m\u001b[39m100\u001b[39m):\n\u001b[0;32m      2\u001b[0m         \u001b[39mfor\u001b[39;00m i \u001b[39min\u001b[39;00m \u001b[39mrange\u001b[39m(max_iter):\n\u001b[1;32m----> 3\u001b[0m             grad_f \u001b[39m=\u001b[39m return_gradient(x1,x2)\n\u001b[0;32m      4\u001b[0m             x1, x2 \u001b[39m=\u001b[39m np\u001b[39m.\u001b[39marray([x1,x2]) \u001b[39m-\u001b[39m grad_f\u001b[39m*\u001b[39meta_sqrt(i, eta)\n\u001b[0;32m      5\u001b[0m         \u001b[39mreturn\u001b[39;00m \u001b[39m\"\u001b[39m\u001b[39mAfter \u001b[39m\u001b[39m{0}\u001b[39;00m\u001b[39m iterations with sqrt step size the value of x100 is \u001b[39m\u001b[39m{1}\u001b[39;00m\u001b[39m and the gradient is \u001b[39m\u001b[39m{2}\u001b[39;00m\u001b[39m\"\u001b[39m\u001b[39m.\u001b[39mformat(i\u001b[39m+\u001b[39m\u001b[39m1\u001b[39m, (x1, x2), grad_f)\n",
      "Cell \u001b[1;32mIn [1], line 4\u001b[0m, in \u001b[0;36mreturn_gradient\u001b[1;34m(x1, x2)\u001b[0m\n\u001b[0;32m      2\u001b[0m fdx1 \u001b[39m=\u001b[39m \u001b[39m4\u001b[39m\u001b[39m*\u001b[39mx1\u001b[39m*\u001b[39m\u001b[39m*\u001b[39m\u001b[39m3\u001b[39m \u001b[39m+\u001b[39m \u001b[39m4\u001b[39m\u001b[39m*\u001b[39mx2\n\u001b[0;32m      3\u001b[0m fdx2 \u001b[39m=\u001b[39m \u001b[39m4\u001b[39m\u001b[39m*\u001b[39mx1 \u001b[39m+\u001b[39m \u001b[39m2\u001b[39m \u001b[39m+\u001b[39m x2\n\u001b[1;32m----> 4\u001b[0m \u001b[39mreturn\u001b[39;00m np\u001b[39m.\u001b[39marray([fdx1,fdx2])\n",
      "\u001b[1;31mNameError\u001b[0m: name 'np' is not defined"
     ]
    }
   ],
   "source": [
    "def gradient_descent_sqrt_step(x1,x2, eta, max_iter=100):\n",
    "        for i in range(max_iter):\n",
    "            grad_f = return_gradient(x1,x2)\n",
    "            x1, x2 = np.array([x1,x2]) - grad_f*eta_sqrt(i, eta)\n",
    "        return \"After {0} iterations with sqrt step size the value of x100 is {1} and the gradient is {2}\".format(i+1, (x1, x2), grad_f)\n",
    "gradient_descent_sqrt_step(1,1,0.01, 100)"
   ]
  },
  {
   "cell_type": "code",
   "execution_count": null,
   "id": "09feb0cd",
   "metadata": {},
   "outputs": [],
   "source": [
    "def gradient_descent_multistep(x1,x2, eta, max_iter=100):\n",
    "        for i in range(max_iter):\n",
    "            grad_f = return_gradient(x1,x2)\n",
    "            x1, x2 = np.array([x1,x2]) - grad_f*eta_multistep(i, [10,60,90],eta,c=0.5)\n",
    "        return \"After {0} iterations the value of x100 is {1} and the gradient is {2}\".format(i+1, (x1, x2), grad_f)\n",
    "gradient_descent_multistep(1,1,0.1, 100)"
   ]
  },
  {
   "cell_type": "markdown",
   "id": "3391359e",
   "metadata": {},
   "source": [
    "# 4"
   ]
  },
  {
   "cell_type": "code",
   "execution_count": null,
   "id": "549df6ca",
   "metadata": {},
   "outputs": [],
   "source": [
    "def function(x1,x2,x3):\n",
    "    y=(x1**4)/2-x1*x2+x2**2+x2*x3+x3**2\n",
    "    return y"
   ]
  },
  {
   "cell_type": "code",
   "execution_count": null,
   "id": "e402c5c2",
   "metadata": {},
   "outputs": [],
   "source": [
    "def argmin_x1(x):\n",
    "    return np.cbrt(x[1]/2)\n",
    "\n",
    "def argmin_x2(x):\n",
    "    return (x[0]-x[2])/2\n",
    "    \n",
    "def argmin_x3(x):\n",
    "    return x[1]/2\n",
    "    "
   ]
  },
  {
   "cell_type": "code",
   "execution_count": null,
   "id": "18f04422",
   "metadata": {},
   "outputs": [],
   "source": [
    "def coordinate_descent(x_t, max_iter=100):\n",
    "    for i in range(max_iter):\n",
    "        x_t[0]=argmin_x1(x_t)\n",
    "        x_t[1]=argmin_x2(x_t)\n",
    "        x_t[2]=argmin_x3(x_t)\n",
    "    return x_t"
   ]
  },
  {
   "cell_type": "code",
   "execution_count": null,
   "id": "1b837aea",
   "metadata": {},
   "outputs": [
    {
     "data": {
      "text/plain": [
       "-0.4"
      ]
     },
     "execution_count": 59,
     "metadata": {},
     "output_type": "execute_result"
    }
   ],
   "source": [
    "round(coordinate_descent([5,10,5])[0],1)"
   ]
  },
  {
   "cell_type": "markdown",
   "id": "1d04ea32",
   "metadata": {},
   "source": [
    "# 5"
   ]
  },
  {
   "cell_type": "code",
   "execution_count": null,
   "id": "d3b55b82",
   "metadata": {},
   "outputs": [],
   "source": [
    "def trf(x):\n",
    "    f=np.tan(np.pi*x)\n",
    "    return f"
   ]
  },
  {
   "cell_type": "code",
   "execution_count": null,
   "id": "51eb701c",
   "metadata": {},
   "outputs": [],
   "source": [
    "def models(x):\n",
    "    return [x-0.1, 3*x+0.1, 5*x+0.2]\n",
    "\n",
    "def est(x):\n",
    "    return np.mean(x)\n",
    "\n",
    "def bias2(x):\n",
    "    ans=(trf(x0)-est(models(x0)))**2\n",
    "    return ans\n",
    "\n",
    "def var(x):\n",
    "    m1=(est(models(x))-models(x)[0])**2\n",
    "    m2=(est(models(x))-models(x)[1])**2\n",
    "    m3=(est(models(x))-models(x)[2])**2\n",
    "    ans=est([m1,m2,m3])\n",
    "    return ans"
   ]
  },
  {
   "cell_type": "code",
   "execution_count": null,
   "id": "6554573b",
   "metadata": {},
   "outputs": [
    {
     "data": {
      "text/plain": [
       "(0.0, 0.08)"
      ]
     },
     "execution_count": 133,
     "metadata": {},
     "output_type": "execute_result"
    }
   ],
   "source": [
    "x0=0.1\n",
    "round(bias2(x0),2),round(var(x0),2)"
   ]
  },
  {
   "cell_type": "markdown",
   "id": "34a12b37",
   "metadata": {},
   "source": [
    "# 6"
   ]
  },
  {
   "cell_type": "code",
   "execution_count": null,
   "id": "5bed1ae4",
   "metadata": {},
   "outputs": [
    {
     "name": "stdout",
     "output_type": "stream",
     "text": [
      ".. _boston_dataset:\n",
      "\n",
      "Boston house prices dataset\n",
      "---------------------------\n",
      "\n",
      "**Data Set Characteristics:**  \n",
      "\n",
      "    :Number of Instances: 506 \n",
      "\n",
      "    :Number of Attributes: 13 numeric/categorical predictive. Median Value (attribute 14) is usually the target.\n",
      "\n",
      "    :Attribute Information (in order):\n",
      "        - CRIM     per capita crime rate by town\n",
      "        - ZN       proportion of residential land zoned for lots over 25,000 sq.ft.\n",
      "        - INDUS    proportion of non-retail business acres per town\n",
      "        - CHAS     Charles River dummy variable (= 1 if tract bounds river; 0 otherwise)\n",
      "        - NOX      nitric oxides concentration (parts per 10 million)\n",
      "        - RM       average number of rooms per dwelling\n",
      "        - AGE      proportion of owner-occupied units built prior to 1940\n",
      "        - DIS      weighted distances to five Boston employment centres\n",
      "        - RAD      index of accessibility to radial highways\n",
      "        - TAX      full-value property-tax rate per $10,000\n",
      "        - PTRATIO  pupil-teacher ratio by town\n",
      "        - B        1000(Bk - 0.63)^2 where Bk is the proportion of black people by town\n",
      "        - LSTAT    % lower status of the population\n",
      "        - MEDV     Median value of owner-occupied homes in $1000's\n",
      "\n",
      "    :Missing Attribute Values: None\n",
      "\n",
      "    :Creator: Harrison, D. and Rubinfeld, D.L.\n",
      "\n",
      "This is a copy of UCI ML housing dataset.\n",
      "https://archive.ics.uci.edu/ml/machine-learning-databases/housing/\n",
      "\n",
      "\n",
      "This dataset was taken from the StatLib library which is maintained at Carnegie Mellon University.\n",
      "\n",
      "The Boston house-price data of Harrison, D. and Rubinfeld, D.L. 'Hedonic\n",
      "prices and the demand for clean air', J. Environ. Economics & Management,\n",
      "vol.5, 81-102, 1978.   Used in Belsley, Kuh & Welsch, 'Regression diagnostics\n",
      "...', Wiley, 1980.   N.B. Various transformations are used in the table on\n",
      "pages 244-261 of the latter.\n",
      "\n",
      "The Boston house-price data has been used in many machine learning papers that address regression\n",
      "problems.   \n",
      "     \n",
      ".. topic:: References\n",
      "\n",
      "   - Belsley, Kuh & Welsch, 'Regression diagnostics: Identifying Influential Data and Sources of Collinearity', Wiley, 1980. 244-261.\n",
      "   - Quinlan,R. (1993). Combining Instance-Based and Model-Based Learning. In Proceedings on the Tenth International Conference of Machine Learning, 236-243, University of Massachusetts, Amherst. Morgan Kaufmann.\n",
      "\n"
     ]
    },
    {
     "name": "stderr",
     "output_type": "stream",
     "text": [
      "C:\\Users\\Igor\\anaconda3\\lib\\site-packages\\sklearn\\utils\\deprecation.py:87: FutureWarning: Function load_boston is deprecated; `load_boston` is deprecated in 1.0 and will be removed in 1.2.\n",
      "\n",
      "    The Boston housing prices dataset has an ethical problem. You can refer to\n",
      "    the documentation of this function for further details.\n",
      "\n",
      "    The scikit-learn maintainers therefore strongly discourage the use of this\n",
      "    dataset unless the purpose of the code is to study and educate about\n",
      "    ethical issues in data science and machine learning.\n",
      "\n",
      "    In this special case, you can fetch the dataset from the original\n",
      "    source::\n",
      "\n",
      "        import pandas as pd\n",
      "        import numpy as np\n",
      "\n",
      "\n",
      "        data_url = \"http://lib.stat.cmu.edu/datasets/boston\"\n",
      "        raw_df = pd.read_csv(data_url, sep=\"\\s+\", skiprows=22, header=None)\n",
      "        data = np.hstack([raw_df.values[::2, :], raw_df.values[1::2, :2]])\n",
      "        target = raw_df.values[1::2, 2]\n",
      "\n",
      "    Alternative datasets include the California housing dataset (i.e.\n",
      "    :func:`~sklearn.datasets.fetch_california_housing`) and the Ames housing\n",
      "    dataset. You can load the datasets as follows::\n",
      "\n",
      "        from sklearn.datasets import fetch_california_housing\n",
      "        housing = fetch_california_housing()\n",
      "\n",
      "    for the California housing dataset and::\n",
      "\n",
      "        from sklearn.datasets import fetch_openml\n",
      "        housing = fetch_openml(name=\"house_prices\", as_frame=True)\n",
      "\n",
      "    for the Ames housing dataset.\n",
      "    \n",
      "  warnings.warn(msg, category=FutureWarning)\n"
     ]
    }
   ],
   "source": [
    "boston = sklearn.datasets.load_boston()\n",
    "print(boston.DESCR)"
   ]
  },
  {
   "cell_type": "code",
   "execution_count": null,
   "id": "85d235f1",
   "metadata": {},
   "outputs": [
    {
     "ename": "NotFittedError",
     "evalue": "This PolynomialFeatures instance is not fitted yet. Call 'fit' with appropriate arguments before using this estimator.",
     "output_type": "error",
     "traceback": [
      "\u001b[1;31m---------------------------------------------------------------------------\u001b[0m",
      "\u001b[1;31mNotFittedError\u001b[0m                            Traceback (most recent call last)",
      "Input \u001b[1;32mIn [144]\u001b[0m, in \u001b[0;36m<cell line: 2>\u001b[1;34m()\u001b[0m\n\u001b[0;32m      1\u001b[0m poly \u001b[38;5;241m=\u001b[39m PolynomialFeatures(\u001b[38;5;241m2\u001b[39m,include_bias\u001b[38;5;241m=\u001b[39m\u001b[38;5;28;01mTrue\u001b[39;00m)\n\u001b[1;32m----> 2\u001b[0m \u001b[43mpoly\u001b[49m\u001b[38;5;241;43m.\u001b[39;49m\u001b[43mget_feature_names_out\u001b[49m\u001b[43m(\u001b[49m\u001b[43mboston\u001b[49m\u001b[38;5;241;43m.\u001b[39;49m\u001b[43mfeature_names\u001b[49m\u001b[43m)\u001b[49m\n",
      "File \u001b[1;32m~\\anaconda3\\lib\\site-packages\\sklearn\\preprocessing\\_polynomial.py:253\u001b[0m, in \u001b[0;36mPolynomialFeatures.get_feature_names_out\u001b[1;34m(self, input_features)\u001b[0m\n\u001b[0;32m    234\u001b[0m \u001b[38;5;28;01mdef\u001b[39;00m \u001b[38;5;21mget_feature_names_out\u001b[39m(\u001b[38;5;28mself\u001b[39m, input_features\u001b[38;5;241m=\u001b[39m\u001b[38;5;28;01mNone\u001b[39;00m):\n\u001b[0;32m    235\u001b[0m     \u001b[38;5;124;03m\"\"\"Get output feature names for transformation.\u001b[39;00m\n\u001b[0;32m    236\u001b[0m \n\u001b[0;32m    237\u001b[0m \u001b[38;5;124;03m    Parameters\u001b[39;00m\n\u001b[1;32m   (...)\u001b[0m\n\u001b[0;32m    251\u001b[0m \u001b[38;5;124;03m        Transformed feature names.\u001b[39;00m\n\u001b[0;32m    252\u001b[0m \u001b[38;5;124;03m    \"\"\"\u001b[39;00m\n\u001b[1;32m--> 253\u001b[0m     powers \u001b[38;5;241m=\u001b[39m \u001b[38;5;28;43mself\u001b[39;49m\u001b[38;5;241;43m.\u001b[39;49m\u001b[43mpowers_\u001b[49m\n\u001b[0;32m    254\u001b[0m     input_features \u001b[38;5;241m=\u001b[39m _check_feature_names_in(\u001b[38;5;28mself\u001b[39m, input_features)\n\u001b[0;32m    255\u001b[0m     feature_names \u001b[38;5;241m=\u001b[39m []\n",
      "File \u001b[1;32m~\\anaconda3\\lib\\site-packages\\sklearn\\preprocessing\\_polynomial.py:185\u001b[0m, in \u001b[0;36mPolynomialFeatures.powers_\u001b[1;34m(self)\u001b[0m\n\u001b[0;32m    182\u001b[0m \u001b[38;5;129m@property\u001b[39m\n\u001b[0;32m    183\u001b[0m \u001b[38;5;28;01mdef\u001b[39;00m \u001b[38;5;21mpowers_\u001b[39m(\u001b[38;5;28mself\u001b[39m):\n\u001b[0;32m    184\u001b[0m     \u001b[38;5;124;03m\"\"\"Exponent for each of the inputs in the output.\"\"\"\u001b[39;00m\n\u001b[1;32m--> 185\u001b[0m     \u001b[43mcheck_is_fitted\u001b[49m\u001b[43m(\u001b[49m\u001b[38;5;28;43mself\u001b[39;49m\u001b[43m)\u001b[49m\n\u001b[0;32m    187\u001b[0m     combinations \u001b[38;5;241m=\u001b[39m \u001b[38;5;28mself\u001b[39m\u001b[38;5;241m.\u001b[39m_combinations(\n\u001b[0;32m    188\u001b[0m         n_features\u001b[38;5;241m=\u001b[39m\u001b[38;5;28mself\u001b[39m\u001b[38;5;241m.\u001b[39mn_features_in_,\n\u001b[0;32m    189\u001b[0m         min_degree\u001b[38;5;241m=\u001b[39m\u001b[38;5;28mself\u001b[39m\u001b[38;5;241m.\u001b[39m_min_degree,\n\u001b[1;32m   (...)\u001b[0m\n\u001b[0;32m    192\u001b[0m         include_bias\u001b[38;5;241m=\u001b[39m\u001b[38;5;28mself\u001b[39m\u001b[38;5;241m.\u001b[39minclude_bias,\n\u001b[0;32m    193\u001b[0m     )\n\u001b[0;32m    194\u001b[0m     \u001b[38;5;28;01mreturn\u001b[39;00m np\u001b[38;5;241m.\u001b[39mvstack(\n\u001b[0;32m    195\u001b[0m         [np\u001b[38;5;241m.\u001b[39mbincount(c, minlength\u001b[38;5;241m=\u001b[39m\u001b[38;5;28mself\u001b[39m\u001b[38;5;241m.\u001b[39mn_features_in_) \u001b[38;5;28;01mfor\u001b[39;00m c \u001b[38;5;129;01min\u001b[39;00m combinations]\n\u001b[0;32m    196\u001b[0m     )\n",
      "File \u001b[1;32m~\\anaconda3\\lib\\site-packages\\sklearn\\utils\\validation.py:1222\u001b[0m, in \u001b[0;36mcheck_is_fitted\u001b[1;34m(estimator, attributes, msg, all_or_any)\u001b[0m\n\u001b[0;32m   1217\u001b[0m     fitted \u001b[38;5;241m=\u001b[39m [\n\u001b[0;32m   1218\u001b[0m         v \u001b[38;5;28;01mfor\u001b[39;00m v \u001b[38;5;129;01min\u001b[39;00m \u001b[38;5;28mvars\u001b[39m(estimator) \u001b[38;5;28;01mif\u001b[39;00m v\u001b[38;5;241m.\u001b[39mendswith(\u001b[38;5;124m\"\u001b[39m\u001b[38;5;124m_\u001b[39m\u001b[38;5;124m\"\u001b[39m) \u001b[38;5;129;01mand\u001b[39;00m \u001b[38;5;129;01mnot\u001b[39;00m v\u001b[38;5;241m.\u001b[39mstartswith(\u001b[38;5;124m\"\u001b[39m\u001b[38;5;124m__\u001b[39m\u001b[38;5;124m\"\u001b[39m)\n\u001b[0;32m   1219\u001b[0m     ]\n\u001b[0;32m   1221\u001b[0m \u001b[38;5;28;01mif\u001b[39;00m \u001b[38;5;129;01mnot\u001b[39;00m fitted:\n\u001b[1;32m-> 1222\u001b[0m     \u001b[38;5;28;01mraise\u001b[39;00m NotFittedError(msg \u001b[38;5;241m%\u001b[39m {\u001b[38;5;124m\"\u001b[39m\u001b[38;5;124mname\u001b[39m\u001b[38;5;124m\"\u001b[39m: \u001b[38;5;28mtype\u001b[39m(estimator)\u001b[38;5;241m.\u001b[39m\u001b[38;5;18m__name__\u001b[39m})\n",
      "\u001b[1;31mNotFittedError\u001b[0m: This PolynomialFeatures instance is not fitted yet. Call 'fit' with appropriate arguments before using this estimator."
     ]
    }
   ],
   "source": [
    "poly = PolynomialFeatures(2,include_bias=True)\n",
    "poly.get_feature_names_out(boston.feature_names)"
   ]
  }
 ],
 "metadata": {
  "kernelspec": {
   "display_name": "Python 3.10.8 64-bit (microsoft store)",
   "language": "python",
   "name": "python3"
  },
  "language_info": {
   "codemirror_mode": {
    "name": "ipython",
    "version": 3
   },
   "file_extension": ".py",
   "mimetype": "text/x-python",
   "name": "python",
   "nbconvert_exporter": "python",
   "pygments_lexer": "ipython3",
   "version": "3.10.8"
  },
  "vscode": {
   "interpreter": {
    "hash": "159e73ccebf9186b5d3bf6e7554d8c3e087899713c5feab0ecf56f57442f208a"
   }
  }
 },
 "nbformat": 4,
 "nbformat_minor": 5
}
