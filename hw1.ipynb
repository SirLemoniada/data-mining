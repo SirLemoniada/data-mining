{
 "cells": [
  {
   "cell_type": "markdown",
   "id": "1de83d1c",
   "metadata": {},
   "source": [
    "# 1"
   ]
  },
  {
   "cell_type": "markdown",
   "id": "49693047",
   "metadata": {},
   "source": [
    "### D"
   ]
  },
  {
   "cell_type": "markdown",
   "id": "386f0491",
   "metadata": {},
   "source": [
    "# 2"
   ]
  },
  {
   "cell_type": "code",
   "execution_count": 36,
   "id": "9f57c1ad",
   "metadata": {},
   "outputs": [],
   "source": [
    "import numpy as np\n",
    "import pandas as pd\n",
    "import sklearn.datasets\n",
    "from sklearn.preprocessing import PolynomialFeatures"
   ]
  },
  {
   "cell_type": "code",
   "execution_count": 2,
   "id": "38456689",
   "metadata": {},
   "outputs": [],
   "source": [
    "F1=np.array([5,6,8,10,4])\n",
    "F2=np.array([200,150,300,185,225])\n",
    "F3=np.array([50,60,80,25,40])"
   ]
  },
  {
   "cell_type": "code",
   "execution_count": 3,
   "id": "4856ea04",
   "metadata": {
    "scrolled": true
   },
   "outputs": [
    {
     "data": {
      "text/plain": [
       "array([0.16666667, 0.33333333, 0.66666667, 1.        , 0.        ])"
      ]
     },
     "execution_count": 3,
     "metadata": {},
     "output_type": "execute_result"
    }
   ],
   "source": [
    "F1_minmax=(F1-min(F1))/(max(F1)-min(F1))\n",
    "F1_minmax"
   ]
  },
  {
   "cell_type": "code",
   "execution_count": 4,
   "id": "30a10335",
   "metadata": {},
   "outputs": [
    {
     "data": {
      "text/plain": [
       "array([-0.33333333,  0.        ,  0.66666667,  1.33333333, -0.66666667])"
      ]
     },
     "execution_count": 4,
     "metadata": {},
     "output_type": "execute_result"
    }
   ],
   "source": [
    "F1_robust=(F1-np.median(F1))/(np.quantile(F1,0.75)-np.quantile(F1,0.25))\n",
    "F1_robust"
   ]
  },
  {
   "cell_type": "markdown",
   "id": "5c6dcfcc",
   "metadata": {},
   "source": [
    "# 3"
   ]
  },
  {
   "cell_type": "code",
   "execution_count": 5,
   "id": "58da0517",
   "metadata": {},
   "outputs": [],
   "source": [
    "def return_gradient(x1,x2):\n",
    "    fdx1 = 4*x1**3 + 4*x2\n",
    "    fdx2 = 4*x1 + 2 + x2\n",
    "    return np.array([fdx1,fdx2])"
   ]
  },
  {
   "cell_type": "code",
   "execution_count": 6,
   "id": "254e1a1b",
   "metadata": {},
   "outputs": [
    {
     "data": {
      "text/plain": [
       "'After 100 iterations the value is (1.467321945319173, -3.343911663909736) and the gradient is [-0.75003398  4.54078258]'"
      ]
     },
     "execution_count": 6,
     "metadata": {},
     "output_type": "execute_result"
    }
   ],
   "source": [
    "def gradient_descent(x1,x2, eta, max_iter=100):\n",
    "    for i in range(max_iter):\n",
    "        grad_f = return_gradient(x1,x2)\n",
    "        x1, x2 = np.array([x1,x2]) - grad_f*eta\n",
    "    return \"After {0} iterations the value is {1} and the gradient is {2}\".format(i+1, (x1, x2), grad_f)\n",
    "gradient_descent(1,1,0.01, 100)"
   ]
  },
  {
   "cell_type": "code",
   "execution_count": 7,
   "id": "11d810d1",
   "metadata": {},
   "outputs": [],
   "source": [
    "def  eta_const(t,c):\n",
    "    return c"
   ]
  },
  {
   "cell_type": "code",
   "execution_count": 17,
   "id": "47f49f65",
   "metadata": {},
   "outputs": [],
   "source": [
    "def eta_sqrt(t, c):\n",
    "    return c/((t+1)**(1/2))"
   ]
  },
  {
   "cell_type": "code",
   "execution_count": 18,
   "id": "bc20cffe",
   "metadata": {},
   "outputs": [],
   "source": [
    "def eta_multistep(t, milestones:list,eta_init, c=0.1):\n",
    "    if t<milestones[0]:\n",
    "        c = eta_init\n",
    "    if milestones[0]<=t<milestones[1]:\n",
    "        c = eta_init*c\n",
    "    if milestones[1]<=t<milestones[2]:\n",
    "        c = eta_init*c*c\n",
    "    else:\n",
    "        c = eta_init*c*c*c\n",
    "    return c"
   ]
  },
  {
   "cell_type": "code",
   "execution_count": 19,
   "id": "0438eb49",
   "metadata": {},
   "outputs": [
    {
     "data": {
      "text/plain": [
       "-16.087776514949777"
      ]
     },
     "execution_count": 19,
     "metadata": {},
     "output_type": "execute_result"
    }
   ],
   "source": [
    "def gradient_descent_const_step(x1,x2, eta, max_iter=100):\n",
    "        for i in range(max_iter):\n",
    "            grad_f = return_gradient(x1,x2)\n",
    "            x1, x2 = np.array([x1,x2]) - grad_f*eta_const(i,eta)\n",
    "            eta = eta_const(i, eta)\n",
    "        y = x1**4+4*x1*x2+2*x2+(1/2)*x2**2\n",
    "        return y\n",
    "gradient_descent_const_step(1,1,0.01, 100)"
   ]
  },
  {
   "cell_type": "code",
   "execution_count": 25,
   "id": "c9c2d525",
   "metadata": {},
   "outputs": [
    {
     "data": {
      "text/plain": [
       "-27.467055951442692"
      ]
     },
     "execution_count": 25,
     "metadata": {},
     "output_type": "execute_result"
    }
   ],
   "source": [
    "def gradient_descent_sqrt_step(x1,x2, eta, max_iter=100):\n",
    "        for i in range(max_iter):\n",
    "            grad_f = return_gradient(x1,x2)\n",
    "            x1, x2 = np.array([x1,x2]) - grad_f*eta_sqrt(i, eta)\n",
    "            #eta = eta_sqrt(i, eta)\n",
    "        y = x1**4+4*x1*x2+2*x2+(1/2)*x2**2\n",
    "        return y\n",
    "gradient_descent_sqrt_step(1,1,0.1, 100)"
   ]
  },
  {
   "cell_type": "code",
   "execution_count": 27,
   "id": "09feb0cd",
   "metadata": {},
   "outputs": [
    {
     "data": {
      "text/plain": [
       "-13.0911887685786"
      ]
     },
     "execution_count": 27,
     "metadata": {},
     "output_type": "execute_result"
    }
   ],
   "source": [
    "def gradient_descent_multistep(x1,x2, eta, max_iter=100):\n",
    "        for i in range(max_iter):\n",
    "            grad_f = return_gradient(x1,x2)\n",
    "            x1, x2 = np.array([x1,x2]) - grad_f*eta_multistep(i, [10,60,90],eta,c=0.5)\n",
    "        y = x1**4+4*x1*x2+2*x2+(1/2)*x2**2\n",
    "        return y\n",
    "gradient_descent_multistep(1,1,0.1, 100)"
   ]
  },
  {
   "cell_type": "markdown",
   "id": "3391359e",
   "metadata": {},
   "source": [
    "# 4"
   ]
  },
  {
   "cell_type": "code",
   "execution_count": null,
   "id": "549df6ca",
   "metadata": {},
   "outputs": [],
   "source": [
    "def function(x1,x2,x3):\n",
    "    y=(x1**4)/2-x1*x2+x2**2+x2*x3+x3**2\n",
    "    return y"
   ]
  },
  {
   "cell_type": "code",
   "execution_count": null,
   "id": "e402c5c2",
   "metadata": {},
   "outputs": [],
   "source": [
    "def argmin_x1(x):\n",
    "    return np.cbrt(x[1]/2)\n",
    "\n",
    "def argmin_x2(x):\n",
    "    return (x[0]-x[2])/2\n",
    "    \n",
    "def argmin_x3(x):\n",
    "    return x[1]/2\n",
    "    "
   ]
  },
  {
   "cell_type": "code",
   "execution_count": null,
   "id": "18f04422",
   "metadata": {},
   "outputs": [],
   "source": [
    "def coordinate_descent(x_t, max_iter=100):\n",
    "    for i in range(max_iter):\n",
    "        x_t[0]=argmin_x1(x_t)\n",
    "        x_t[1]=argmin_x2(x_t)\n",
    "        x_t[2]=argmin_x3(x_t)\n",
    "    return x_t"
   ]
  },
  {
   "cell_type": "code",
   "execution_count": null,
   "id": "1b837aea",
   "metadata": {},
   "outputs": [
    {
     "data": {
      "text/plain": [
       "-0.4"
      ]
     },
     "execution_count": 59,
     "metadata": {},
     "output_type": "execute_result"
    }
   ],
   "source": [
    "round(coordinate_descent([5,10,5])[0],1)"
   ]
  },
  {
   "cell_type": "markdown",
   "id": "1d04ea32",
   "metadata": {},
   "source": [
    "# 5"
   ]
  },
  {
   "cell_type": "code",
   "execution_count": null,
   "id": "d3b55b82",
   "metadata": {},
   "outputs": [],
   "source": [
    "def trf(x):\n",
    "    f=np.tan(np.pi*x)\n",
    "    return f"
   ]
  },
  {
   "cell_type": "code",
   "execution_count": null,
   "id": "51eb701c",
   "metadata": {},
   "outputs": [],
   "source": [
    "def models(x):\n",
    "    return [x-0.1, 3*x+0.1, 5*x+0.2]\n",
    "\n",
    "def est(x):\n",
    "    return np.mean(x)\n",
    "\n",
    "def bias2(x):\n",
    "    ans=(trf(x0)-est(models(x0)))**2\n",
    "    return ans\n",
    "\n",
    "def var(x):\n",
    "    m1=(est(models(x))-models(x)[0])**2\n",
    "    m2=(est(models(x))-models(x)[1])**2\n",
    "    m3=(est(models(x))-models(x)[2])**2\n",
    "    ans=est([m1,m2,m3])\n",
    "    return ans"
   ]
  },
  {
   "cell_type": "code",
   "execution_count": null,
   "id": "6554573b",
   "metadata": {},
   "outputs": [
    {
     "data": {
      "text/plain": [
       "(0.0, 0.08)"
      ]
     },
     "execution_count": 133,
     "metadata": {},
     "output_type": "execute_result"
    }
   ],
   "source": [
    "x0=0.1\n",
    "round(bias2(x0),2),round(var(x0),2)"
   ]
  },
  {
   "cell_type": "markdown",
   "id": "34a12b37",
   "metadata": {},
   "source": [
    "# 6"
   ]
  },
  {
   "cell_type": "code",
   "execution_count": 35,
   "id": "b841b987",
   "metadata": {},
   "outputs": [
    {
     "name": "stderr",
     "output_type": "stream",
     "text": [
      "c:\\Users\\20211922\\AppData\\Local\\Programs\\Python\\Python310\\lib\\site-packages\\sklearn\\utils\\deprecation.py:87: FutureWarning: Function load_boston is deprecated; `load_boston` is deprecated in 1.0 and will be removed in 1.2.\n",
      "\n",
      "    The Boston housing prices dataset has an ethical problem. You can refer to\n",
      "    the documentation of this function for further details.\n",
      "\n",
      "    The scikit-learn maintainers therefore strongly discourage the use of this\n",
      "    dataset unless the purpose of the code is to study and educate about\n",
      "    ethical issues in data science and machine learning.\n",
      "\n",
      "    In this special case, you can fetch the dataset from the original\n",
      "    source::\n",
      "\n",
      "        import pandas as pd\n",
      "        import numpy as np\n",
      "\n",
      "        data_url = \"http://lib.stat.cmu.edu/datasets/boston\"\n",
      "        raw_df = pd.read_csv(data_url, sep=\"\\s+\", skiprows=22, header=None)\n",
      "        data = np.hstack([raw_df.values[::2, :], raw_df.values[1::2, :2]])\n",
      "        target = raw_df.values[1::2, 2]\n",
      "\n",
      "    Alternative datasets include the California housing dataset (i.e.\n",
      "    :func:`~sklearn.datasets.fetch_california_housing`) and the Ames housing\n",
      "    dataset. You can load the datasets as follows::\n",
      "\n",
      "        from sklearn.datasets import fetch_california_housing\n",
      "        housing = fetch_california_housing()\n",
      "\n",
      "    for the California housing dataset and::\n",
      "\n",
      "        from sklearn.datasets import fetch_openml\n",
      "        housing = fetch_openml(name=\"house_prices\", as_frame=True)\n",
      "\n",
      "    for the Ames housing dataset.\n",
      "  warnings.warn(msg, category=FutureWarning)\n"
     ]
    },
    {
     "data": {
      "text/html": [
       "<div>\n",
       "<style scoped>\n",
       "    .dataframe tbody tr th:only-of-type {\n",
       "        vertical-align: middle;\n",
       "    }\n",
       "\n",
       "    .dataframe tbody tr th {\n",
       "        vertical-align: top;\n",
       "    }\n",
       "\n",
       "    .dataframe thead th {\n",
       "        text-align: right;\n",
       "    }\n",
       "</style>\n",
       "<table border=\"1\" class=\"dataframe\">\n",
       "  <thead>\n",
       "    <tr style=\"text-align: right;\">\n",
       "      <th></th>\n",
       "      <th>CRIM</th>\n",
       "      <th>ZN</th>\n",
       "      <th>INDUS</th>\n",
       "      <th>CHAS</th>\n",
       "      <th>NOX</th>\n",
       "      <th>RM</th>\n",
       "      <th>AGE</th>\n",
       "      <th>DIS</th>\n",
       "      <th>RAD</th>\n",
       "      <th>TAX</th>\n",
       "      <th>PTRATIO</th>\n",
       "      <th>B</th>\n",
       "      <th>LSTAT</th>\n",
       "      <th>target</th>\n",
       "    </tr>\n",
       "  </thead>\n",
       "  <tbody>\n",
       "    <tr>\n",
       "      <th>0</th>\n",
       "      <td>0.00632</td>\n",
       "      <td>18.0</td>\n",
       "      <td>2.31</td>\n",
       "      <td>0.0</td>\n",
       "      <td>0.538</td>\n",
       "      <td>6.575</td>\n",
       "      <td>65.2</td>\n",
       "      <td>4.0900</td>\n",
       "      <td>1.0</td>\n",
       "      <td>296.0</td>\n",
       "      <td>15.3</td>\n",
       "      <td>396.90</td>\n",
       "      <td>4.98</td>\n",
       "      <td>24.0</td>\n",
       "    </tr>\n",
       "    <tr>\n",
       "      <th>1</th>\n",
       "      <td>0.02731</td>\n",
       "      <td>0.0</td>\n",
       "      <td>7.07</td>\n",
       "      <td>0.0</td>\n",
       "      <td>0.469</td>\n",
       "      <td>6.421</td>\n",
       "      <td>78.9</td>\n",
       "      <td>4.9671</td>\n",
       "      <td>2.0</td>\n",
       "      <td>242.0</td>\n",
       "      <td>17.8</td>\n",
       "      <td>396.90</td>\n",
       "      <td>9.14</td>\n",
       "      <td>21.6</td>\n",
       "    </tr>\n",
       "    <tr>\n",
       "      <th>2</th>\n",
       "      <td>0.02729</td>\n",
       "      <td>0.0</td>\n",
       "      <td>7.07</td>\n",
       "      <td>0.0</td>\n",
       "      <td>0.469</td>\n",
       "      <td>7.185</td>\n",
       "      <td>61.1</td>\n",
       "      <td>4.9671</td>\n",
       "      <td>2.0</td>\n",
       "      <td>242.0</td>\n",
       "      <td>17.8</td>\n",
       "      <td>392.83</td>\n",
       "      <td>4.03</td>\n",
       "      <td>34.7</td>\n",
       "    </tr>\n",
       "    <tr>\n",
       "      <th>3</th>\n",
       "      <td>0.03237</td>\n",
       "      <td>0.0</td>\n",
       "      <td>2.18</td>\n",
       "      <td>0.0</td>\n",
       "      <td>0.458</td>\n",
       "      <td>6.998</td>\n",
       "      <td>45.8</td>\n",
       "      <td>6.0622</td>\n",
       "      <td>3.0</td>\n",
       "      <td>222.0</td>\n",
       "      <td>18.7</td>\n",
       "      <td>394.63</td>\n",
       "      <td>2.94</td>\n",
       "      <td>33.4</td>\n",
       "    </tr>\n",
       "    <tr>\n",
       "      <th>4</th>\n",
       "      <td>0.06905</td>\n",
       "      <td>0.0</td>\n",
       "      <td>2.18</td>\n",
       "      <td>0.0</td>\n",
       "      <td>0.458</td>\n",
       "      <td>7.147</td>\n",
       "      <td>54.2</td>\n",
       "      <td>6.0622</td>\n",
       "      <td>3.0</td>\n",
       "      <td>222.0</td>\n",
       "      <td>18.7</td>\n",
       "      <td>396.90</td>\n",
       "      <td>5.33</td>\n",
       "      <td>36.2</td>\n",
       "    </tr>\n",
       "  </tbody>\n",
       "</table>\n",
       "</div>"
      ],
      "text/plain": [
       "      CRIM    ZN  INDUS  CHAS    NOX     RM   AGE     DIS  RAD    TAX  \\\n",
       "0  0.00632  18.0   2.31   0.0  0.538  6.575  65.2  4.0900  1.0  296.0   \n",
       "1  0.02731   0.0   7.07   0.0  0.469  6.421  78.9  4.9671  2.0  242.0   \n",
       "2  0.02729   0.0   7.07   0.0  0.469  7.185  61.1  4.9671  2.0  242.0   \n",
       "3  0.03237   0.0   2.18   0.0  0.458  6.998  45.8  6.0622  3.0  222.0   \n",
       "4  0.06905   0.0   2.18   0.0  0.458  7.147  54.2  6.0622  3.0  222.0   \n",
       "\n",
       "   PTRATIO       B  LSTAT  target  \n",
       "0     15.3  396.90   4.98    24.0  \n",
       "1     17.8  396.90   9.14    21.6  \n",
       "2     17.8  392.83   4.03    34.7  \n",
       "3     18.7  394.63   2.94    33.4  \n",
       "4     18.7  396.90   5.33    36.2  "
      ]
     },
     "execution_count": 35,
     "metadata": {},
     "output_type": "execute_result"
    }
   ],
   "source": [
    "from sklearn import datasets\n",
    "import pandas as pd\n",
    "\n",
    "boston_data = datasets.load_boston()\n",
    "df_boston = pd.DataFrame(boston_data.data,columns=boston_data.feature_names)\n",
    "df_boston['target'] = pd.Series(boston_data.target)\n",
    "df_boston.head()"
   ]
  },
  {
   "cell_type": "code",
   "execution_count": null,
   "id": "ed48f65d",
   "metadata": {},
   "outputs": [],
   "source": [
    "from sklearn.preprocessing import "
   ]
  }
 ],
 "metadata": {
  "kernelspec": {
   "display_name": "Python 3.10.4 64-bit",
   "language": "python",
   "name": "python3"
  },
  "language_info": {
   "codemirror_mode": {
    "name": "ipython",
    "version": 3
   },
   "file_extension": ".py",
   "mimetype": "text/x-python",
   "name": "python",
   "nbconvert_exporter": "python",
   "pygments_lexer": "ipython3",
   "version": "3.10.4"
  },
  "vscode": {
   "interpreter": {
    "hash": "f7d1145d77355f259197a0c8a72d9a470aae627a1d0431790d564439afa729d5"
   }
  }
 },
 "nbformat": 4,
 "nbformat_minor": 5
}
