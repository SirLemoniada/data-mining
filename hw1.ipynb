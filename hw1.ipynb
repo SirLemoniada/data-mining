{
 "cells": [
  {
   "cell_type": "markdown",
   "id": "1de83d1c",
   "metadata": {},
   "source": [
    "# 1"
   ]
  },
  {
   "cell_type": "markdown",
   "id": "49693047",
   "metadata": {},
   "source": [
    "### D"
   ]
  },
  {
   "cell_type": "markdown",
   "id": "386f0491",
   "metadata": {},
   "source": [
    "# 2"
   ]
  },
  {
   "cell_type": "code",
   "execution_count": 1,
   "id": "9f57c1ad",
   "metadata": {},
   "outputs": [],
   "source": [
    "import numpy as np\n",
    "import pandas as pd\n",
    "import sklearn.datasets\n",
    "from sklearn.preprocessing import PolynomialFeatures"
   ]
  },
  {
   "cell_type": "code",
   "execution_count": 2,
   "id": "38456689",
   "metadata": {},
   "outputs": [],
   "source": [
    "F1=np.array([5,6,8,10,4])\n",
    "F2=np.array([200,150,300,185,225])\n",
    "F3=np.array([50,60,80,25,40])"
   ]
  },
  {
   "cell_type": "code",
   "execution_count": 3,
   "id": "4856ea04",
   "metadata": {
    "scrolled": true
   },
   "outputs": [
    {
     "data": {
      "text/plain": [
       "array([0.16666667, 0.33333333, 0.66666667, 1.        , 0.        ])"
      ]
     },
     "execution_count": 3,
     "metadata": {},
     "output_type": "execute_result"
    }
   ],
   "source": [
    "F1_minmax=(F1-min(F1))/(max(F1)-min(F1))\n",
    "F1_minmax"
   ]
  },
  {
   "cell_type": "code",
   "execution_count": 4,
   "id": "30a10335",
   "metadata": {},
   "outputs": [
    {
     "data": {
      "text/plain": [
       "array([-0.33333333,  0.        ,  0.66666667,  1.33333333, -0.66666667])"
      ]
     },
     "execution_count": 4,
     "metadata": {},
     "output_type": "execute_result"
    }
   ],
   "source": [
    "F1_robust=(F1-np.median(F1))/(np.quantile(F1,0.75)-np.quantile(F1,0.25))\n",
    "F1_robust"
   ]
  },
  {
   "cell_type": "markdown",
   "id": "5c6dcfcc",
   "metadata": {},
   "source": [
    "# 3"
   ]
  },
  {
   "cell_type": "code",
   "execution_count": 5,
   "id": "58da0517",
   "metadata": {},
   "outputs": [],
   "source": [
    "def return_gradient(x1,x2):\n",
    "    fdx1 = 4*x1**3 + 4*x2\n",
    "    fdx2 = 4*x1 + 2 + x2\n",
    "    return np.array([fdx1,fdx2])"
   ]
  },
  {
   "cell_type": "code",
   "execution_count": 6,
   "id": "254e1a1b",
   "metadata": {},
   "outputs": [
    {
     "data": {
      "text/plain": [
       "'After 100 iterations the value is (1.467321945319173, -3.343911663909736) and the gradient is [-0.75003398  4.54078258]'"
      ]
     },
     "execution_count": 6,
     "metadata": {},
     "output_type": "execute_result"
    }
   ],
   "source": [
    "def gradient_descent(x1,x2, eta, max_iter=100):\n",
    "    for i in range(max_iter):\n",
    "        grad_f = return_gradient(x1,x2)\n",
    "        x1, x2 = np.array([x1,x2]) - grad_f*eta\n",
    "    return \"After {0} iterations the value is {1} and the gradient is {2}\".format(i+1, (x1, x2), grad_f)\n",
    "gradient_descent(1,1,0.01, 100)"
   ]
  },
  {
   "cell_type": "code",
   "execution_count": 7,
   "id": "11d810d1",
   "metadata": {},
   "outputs": [],
   "source": [
    "def  eta_const(t,c):\n",
    "    return c"
   ]
  },
  {
   "cell_type": "code",
   "execution_count": 8,
   "id": "47f49f65",
   "metadata": {},
   "outputs": [],
   "source": [
    "def eta_sqrt(t, c):\n",
    "    return c/((t+1)**(1/2))"
   ]
  },
  {
   "cell_type": "code",
   "execution_count": 9,
   "id": "bc20cffe",
   "metadata": {},
   "outputs": [],
   "source": [
    "def eta_multistep(t, milestones:list,eta_init, c=0.1):\n",
    "    if t<milestones[0]:\n",
    "        c = eta_init\n",
    "    if milestones[0]<=t<milestones[1]:\n",
    "        c = eta_init*c\n",
    "    if milestones[1]<=t<milestones[2]:\n",
    "        c = eta_init*c*c\n",
    "    else:\n",
    "        c = eta_init*c*c*c\n",
    "    return c"
   ]
  },
  {
   "cell_type": "code",
   "execution_count": 10,
   "id": "0438eb49",
   "metadata": {},
   "outputs": [
    {
     "data": {
      "text/plain": [
       "-16.087776514949777"
      ]
     },
     "execution_count": 10,
     "metadata": {},
     "output_type": "execute_result"
    }
   ],
   "source": [
    "def gradient_descent_const_step(x1,x2, eta, max_iter=100):\n",
    "        for i in range(max_iter):\n",
    "            grad_f = return_gradient(x1,x2)\n",
    "            x1, x2 = np.array([x1,x2]) - grad_f*eta_const(i,eta)\n",
    "            eta = eta_const(i, eta)\n",
    "        y = x1**4+4*x1*x2+2*x2+(1/2)*x2**2\n",
    "        return y\n",
    "gradient_descent_const_step(1,1,0.01, 100)"
   ]
  },
  {
   "cell_type": "code",
   "execution_count": 11,
   "id": "c9c2d525",
   "metadata": {},
   "outputs": [
    {
     "data": {
      "text/plain": [
       "-27.467055951442692"
      ]
     },
     "execution_count": 11,
     "metadata": {},
     "output_type": "execute_result"
    }
   ],
   "source": [
    "def gradient_descent_sqrt_step(x1,x2, eta, max_iter=100):\n",
    "        for i in range(max_iter):\n",
    "            grad_f = return_gradient(x1,x2)\n",
    "            x1, x2 = np.array([x1,x2]) - grad_f*eta_sqrt(i, eta)\n",
    "            #eta = eta_sqrt(i, eta)\n",
    "        y = x1**4+4*x1*x2+2*x2+(1/2)*x2**2\n",
    "        return y\n",
    "gradient_descent_sqrt_step(1,1,0.1, 100)"
   ]
  },
  {
   "cell_type": "code",
   "execution_count": 12,
   "id": "09feb0cd",
   "metadata": {},
   "outputs": [
    {
     "data": {
      "text/plain": [
       "-13.0911887685786"
      ]
     },
     "execution_count": 12,
     "metadata": {},
     "output_type": "execute_result"
    }
   ],
   "source": [
    "def gradient_descent_multistep(x1,x2, eta, max_iter=100):\n",
    "        for i in range(max_iter):\n",
    "            grad_f = return_gradient(x1,x2)\n",
    "            x1, x2 = np.array([x1,x2]) - grad_f*eta_multistep(i, [10,60,90],eta,c=0.5)\n",
    "        y = x1**4+4*x1*x2+2*x2+(1/2)*x2**2\n",
    "        return y\n",
    "gradient_descent_multistep(1,1,0.1, 100)"
   ]
  },
  {
   "cell_type": "markdown",
   "id": "3391359e",
   "metadata": {},
   "source": [
    "# 4"
   ]
  },
  {
   "cell_type": "code",
   "execution_count": 13,
   "id": "549df6ca",
   "metadata": {},
   "outputs": [],
   "source": [
    "def function(x1,x2,x3):\n",
    "    y=(x1**4)/2-x1*x2+x2**2+x2*x3+x3**2\n",
    "    return y"
   ]
  },
  {
   "cell_type": "code",
   "execution_count": 14,
   "id": "e402c5c2",
   "metadata": {},
   "outputs": [],
   "source": [
    "def argmin_x1(x):\n",
    "    return np.cbrt(x[1]/2)\n",
    "\n",
    "def argmin_x2(x):\n",
    "    return (x[0]-x[2])/2\n",
    "    \n",
    "def argmin_x3(x):\n",
    "    return x[1]/2\n",
    "    "
   ]
  },
  {
   "cell_type": "code",
   "execution_count": 15,
   "id": "18f04422",
   "metadata": {},
   "outputs": [],
   "source": [
    "def coordinate_descent(x_t, max_iter=100):\n",
    "    for i in range(max_iter):\n",
    "        x_t[0]=argmin_x1(x_t)\n",
    "        x_t[1]=argmin_x2(x_t)\n",
    "        x_t[2]=argmin_x3(x_t)\n",
    "    return x_t"
   ]
  },
  {
   "cell_type": "code",
   "execution_count": 16,
   "id": "1b837aea",
   "metadata": {},
   "outputs": [
    {
     "data": {
      "text/plain": [
       "-0.4"
      ]
     },
     "execution_count": 16,
     "metadata": {},
     "output_type": "execute_result"
    }
   ],
   "source": [
    "round(coordinate_descent([5,10,5])[0],1)"
   ]
  },
  {
   "cell_type": "markdown",
   "id": "1d04ea32",
   "metadata": {},
   "source": [
    "# 5"
   ]
  },
  {
   "cell_type": "code",
   "execution_count": 17,
   "id": "d3b55b82",
   "metadata": {},
   "outputs": [],
   "source": [
    "def trf(x):\n",
    "    f=np.tan(np.pi*x)\n",
    "    return f"
   ]
  },
  {
   "cell_type": "code",
   "execution_count": 18,
   "id": "51eb701c",
   "metadata": {},
   "outputs": [],
   "source": [
    "def models(x):\n",
    "    return [x-0.1, 3*x+0.1, 5*x+0.2]\n",
    "\n",
    "def est(x):\n",
    "    return np.mean(x)\n",
    "\n",
    "def bias2(x):\n",
    "    ans=(trf(x0)-est(models(x0)))**2\n",
    "    return ans\n",
    "\n",
    "def var(x):\n",
    "    m1=(est(models(x))-models(x)[0])**2\n",
    "    m2=(est(models(x))-models(x)[1])**2\n",
    "    m3=(est(models(x))-models(x)[2])**2\n",
    "    ans=est([m1,m2,m3])\n",
    "    return ans"
   ]
  },
  {
   "cell_type": "code",
   "execution_count": 19,
   "id": "6554573b",
   "metadata": {},
   "outputs": [
    {
     "data": {
      "text/plain": [
       "(0.0, 0.08)"
      ]
     },
     "execution_count": 19,
     "metadata": {},
     "output_type": "execute_result"
    }
   ],
   "source": [
    "x0=0.1\n",
    "round(bias2(x0),2),round(var(x0),2)"
   ]
  },
  {
   "cell_type": "markdown",
   "id": "34a12b37",
   "metadata": {},
   "source": [
    "# 6"
   ]
  },
  {
   "cell_type": "code",
   "execution_count": 20,
   "id": "b841b987",
   "metadata": {},
   "outputs": [
    {
     "data": {
      "text/html": [
       "<div>\n",
       "<style scoped>\n",
       "    .dataframe tbody tr th:only-of-type {\n",
       "        vertical-align: middle;\n",
       "    }\n",
       "\n",
       "    .dataframe tbody tr th {\n",
       "        vertical-align: top;\n",
       "    }\n",
       "\n",
       "    .dataframe thead th {\n",
       "        text-align: right;\n",
       "    }\n",
       "</style>\n",
       "<table border=\"1\" class=\"dataframe\">\n",
       "  <thead>\n",
       "    <tr style=\"text-align: right;\">\n",
       "      <th></th>\n",
       "      <th>MedInc</th>\n",
       "      <th>HouseAge</th>\n",
       "      <th>AveRooms</th>\n",
       "      <th>AveBedrms</th>\n",
       "      <th>Population</th>\n",
       "      <th>AveOccup</th>\n",
       "      <th>Latitude</th>\n",
       "      <th>Longitude</th>\n",
       "      <th>target</th>\n",
       "    </tr>\n",
       "  </thead>\n",
       "  <tbody>\n",
       "    <tr>\n",
       "      <th>0</th>\n",
       "      <td>8.3252</td>\n",
       "      <td>41.0</td>\n",
       "      <td>6.984127</td>\n",
       "      <td>1.023810</td>\n",
       "      <td>322.0</td>\n",
       "      <td>2.555556</td>\n",
       "      <td>37.88</td>\n",
       "      <td>-122.23</td>\n",
       "      <td>4.526</td>\n",
       "    </tr>\n",
       "    <tr>\n",
       "      <th>1</th>\n",
       "      <td>8.3014</td>\n",
       "      <td>21.0</td>\n",
       "      <td>6.238137</td>\n",
       "      <td>0.971880</td>\n",
       "      <td>2401.0</td>\n",
       "      <td>2.109842</td>\n",
       "      <td>37.86</td>\n",
       "      <td>-122.22</td>\n",
       "      <td>3.585</td>\n",
       "    </tr>\n",
       "    <tr>\n",
       "      <th>2</th>\n",
       "      <td>7.2574</td>\n",
       "      <td>52.0</td>\n",
       "      <td>8.288136</td>\n",
       "      <td>1.073446</td>\n",
       "      <td>496.0</td>\n",
       "      <td>2.802260</td>\n",
       "      <td>37.85</td>\n",
       "      <td>-122.24</td>\n",
       "      <td>3.521</td>\n",
       "    </tr>\n",
       "    <tr>\n",
       "      <th>3</th>\n",
       "      <td>5.6431</td>\n",
       "      <td>52.0</td>\n",
       "      <td>5.817352</td>\n",
       "      <td>1.073059</td>\n",
       "      <td>558.0</td>\n",
       "      <td>2.547945</td>\n",
       "      <td>37.85</td>\n",
       "      <td>-122.25</td>\n",
       "      <td>3.413</td>\n",
       "    </tr>\n",
       "    <tr>\n",
       "      <th>4</th>\n",
       "      <td>3.8462</td>\n",
       "      <td>52.0</td>\n",
       "      <td>6.281853</td>\n",
       "      <td>1.081081</td>\n",
       "      <td>565.0</td>\n",
       "      <td>2.181467</td>\n",
       "      <td>37.85</td>\n",
       "      <td>-122.25</td>\n",
       "      <td>3.422</td>\n",
       "    </tr>\n",
       "  </tbody>\n",
       "</table>\n",
       "</div>"
      ],
      "text/plain": [
       "   MedInc  HouseAge  AveRooms  AveBedrms  Population  AveOccup  Latitude  \\\n",
       "0  8.3252      41.0  6.984127   1.023810       322.0  2.555556     37.88   \n",
       "1  8.3014      21.0  6.238137   0.971880      2401.0  2.109842     37.86   \n",
       "2  7.2574      52.0  8.288136   1.073446       496.0  2.802260     37.85   \n",
       "3  5.6431      52.0  5.817352   1.073059       558.0  2.547945     37.85   \n",
       "4  3.8462      52.0  6.281853   1.081081       565.0  2.181467     37.85   \n",
       "\n",
       "   Longitude  target  \n",
       "0    -122.23   4.526  \n",
       "1    -122.22   3.585  \n",
       "2    -122.24   3.521  \n",
       "3    -122.25   3.413  \n",
       "4    -122.25   3.422  "
      ]
     },
     "execution_count": 20,
     "metadata": {},
     "output_type": "execute_result"
    }
   ],
   "source": [
    "from sklearn import datasets\n",
    "import pandas as pd\n",
    "california = sklearn.datasets.fetch_california_housing()\n",
    "\n",
    "df_cali = pd.DataFrame(california.data,columns=california.feature_names)\n",
    "df_cali['target'] = pd.Series(california.target)\n",
    "df_cali.head()"
   ]
  },
  {
   "cell_type": "code",
   "execution_count": 21,
   "id": "95726bd0",
   "metadata": {},
   "outputs": [],
   "source": [
    "X = df_cali.iloc[:,0:8]\n",
    "Y = df_cali.iloc[:, 8:9]"
   ]
  },
  {
   "cell_type": "code",
   "execution_count": 22,
   "id": "ed48f65d",
   "metadata": {},
   "outputs": [],
   "source": [
    "from sklearn.preprocessing import StandardScaler\n",
    "scale = StandardScaler()\n",
    "X = scale.fit_transform(X)"
   ]
  },
  {
   "cell_type": "code",
   "execution_count": 23,
   "id": "9a6e41e8",
   "metadata": {},
   "outputs": [],
   "source": [
    "from sklearn.model_selection import train_test_split\n",
    "X_train, X_test, Y_train, Y_test = train_test_split(X, Y, test_size=0.2, random_state=0)"
   ]
  },
  {
   "cell_type": "code",
   "execution_count": 24,
   "id": "aad63ff3",
   "metadata": {},
   "outputs": [
    {
     "data": {
      "text/html": [
       "<style>#sk-container-id-1 {color: black;background-color: white;}#sk-container-id-1 pre{padding: 0;}#sk-container-id-1 div.sk-toggleable {background-color: white;}#sk-container-id-1 label.sk-toggleable__label {cursor: pointer;display: block;width: 100%;margin-bottom: 0;padding: 0.3em;box-sizing: border-box;text-align: center;}#sk-container-id-1 label.sk-toggleable__label-arrow:before {content: \"▸\";float: left;margin-right: 0.25em;color: #696969;}#sk-container-id-1 label.sk-toggleable__label-arrow:hover:before {color: black;}#sk-container-id-1 div.sk-estimator:hover label.sk-toggleable__label-arrow:before {color: black;}#sk-container-id-1 div.sk-toggleable__content {max-height: 0;max-width: 0;overflow: hidden;text-align: left;background-color: #f0f8ff;}#sk-container-id-1 div.sk-toggleable__content pre {margin: 0.2em;color: black;border-radius: 0.25em;background-color: #f0f8ff;}#sk-container-id-1 input.sk-toggleable__control:checked~div.sk-toggleable__content {max-height: 200px;max-width: 100%;overflow: auto;}#sk-container-id-1 input.sk-toggleable__control:checked~label.sk-toggleable__label-arrow:before {content: \"▾\";}#sk-container-id-1 div.sk-estimator input.sk-toggleable__control:checked~label.sk-toggleable__label {background-color: #d4ebff;}#sk-container-id-1 div.sk-label input.sk-toggleable__control:checked~label.sk-toggleable__label {background-color: #d4ebff;}#sk-container-id-1 input.sk-hidden--visually {border: 0;clip: rect(1px 1px 1px 1px);clip: rect(1px, 1px, 1px, 1px);height: 1px;margin: -1px;overflow: hidden;padding: 0;position: absolute;width: 1px;}#sk-container-id-1 div.sk-estimator {font-family: monospace;background-color: #f0f8ff;border: 1px dotted black;border-radius: 0.25em;box-sizing: border-box;margin-bottom: 0.5em;}#sk-container-id-1 div.sk-estimator:hover {background-color: #d4ebff;}#sk-container-id-1 div.sk-parallel-item::after {content: \"\";width: 100%;border-bottom: 1px solid gray;flex-grow: 1;}#sk-container-id-1 div.sk-label:hover label.sk-toggleable__label {background-color: #d4ebff;}#sk-container-id-1 div.sk-serial::before {content: \"\";position: absolute;border-left: 1px solid gray;box-sizing: border-box;top: 0;bottom: 0;left: 50%;z-index: 0;}#sk-container-id-1 div.sk-serial {display: flex;flex-direction: column;align-items: center;background-color: white;padding-right: 0.2em;padding-left: 0.2em;position: relative;}#sk-container-id-1 div.sk-item {position: relative;z-index: 1;}#sk-container-id-1 div.sk-parallel {display: flex;align-items: stretch;justify-content: center;background-color: white;position: relative;}#sk-container-id-1 div.sk-item::before, #sk-container-id-1 div.sk-parallel-item::before {content: \"\";position: absolute;border-left: 1px solid gray;box-sizing: border-box;top: 0;bottom: 0;left: 50%;z-index: -1;}#sk-container-id-1 div.sk-parallel-item {display: flex;flex-direction: column;z-index: 1;position: relative;background-color: white;}#sk-container-id-1 div.sk-parallel-item:first-child::after {align-self: flex-end;width: 50%;}#sk-container-id-1 div.sk-parallel-item:last-child::after {align-self: flex-start;width: 50%;}#sk-container-id-1 div.sk-parallel-item:only-child::after {width: 0;}#sk-container-id-1 div.sk-dashed-wrapped {border: 1px dashed gray;margin: 0 0.4em 0.5em 0.4em;box-sizing: border-box;padding-bottom: 0.4em;background-color: white;}#sk-container-id-1 div.sk-label label {font-family: monospace;font-weight: bold;display: inline-block;line-height: 1.2em;}#sk-container-id-1 div.sk-label-container {text-align: center;}#sk-container-id-1 div.sk-container {/* jupyter's `normalize.less` sets `[hidden] { display: none; }` but bootstrap.min.css set `[hidden] { display: none !important; }` so we also need the `!important` here to be able to override the default hidden behavior on the sphinx rendered scikit-learn.org. See: https://github.com/scikit-learn/scikit-learn/issues/21755 */display: inline-block !important;position: relative;}#sk-container-id-1 div.sk-text-repr-fallback {display: none;}</style><div id=\"sk-container-id-1\" class=\"sk-top-container\"><div class=\"sk-text-repr-fallback\"><pre>PolynomialFeatures()</pre><b>In a Jupyter environment, please rerun this cell to show the HTML representation or trust the notebook. <br />On GitHub, the HTML representation is unable to render, please try loading this page with nbviewer.org.</b></div><div class=\"sk-container\" hidden><div class=\"sk-item\"><div class=\"sk-estimator sk-toggleable\"><input class=\"sk-toggleable__control sk-hidden--visually\" id=\"sk-estimator-id-1\" type=\"checkbox\" checked><label for=\"sk-estimator-id-1\" class=\"sk-toggleable__label sk-toggleable__label-arrow\">PolynomialFeatures</label><div class=\"sk-toggleable__content\"><pre>PolynomialFeatures()</pre></div></div></div></div></div>"
      ],
      "text/plain": [
       "PolynomialFeatures()"
      ]
     },
     "execution_count": 24,
     "metadata": {},
     "output_type": "execute_result"
    }
   ],
   "source": [
    "from sklearn.preprocessing import PolynomialFeatures\n",
    "poly = PolynomialFeatures(degree=2)\n",
    "x_poly = poly.fit_transform(X_train)\n",
    "poly.fit(x_poly, Y_train)"
   ]
  },
  {
   "cell_type": "code",
   "execution_count": 25,
   "id": "c8f79a7b",
   "metadata": {},
   "outputs": [],
   "source": [
    "from sklearn.linear_model import LinearRegression\n",
    "model = LinearRegression()\n",
    "model.fit(x_poly, Y_train)\n",
    "y_pred = model.predict(poly.fit_transform(X_test))"
   ]
  },
  {
   "cell_type": "code",
   "execution_count": 26,
   "id": "f218545f",
   "metadata": {},
   "outputs": [
    {
     "data": {
      "text/plain": [
       "array(['1', 'MedInc', 'HouseAge', 'AveRooms', 'AveBedrms', 'Population',\n",
       "       'AveOccup', 'Latitude', 'Longitude', 'MedInc^2', 'MedInc HouseAge',\n",
       "       'MedInc AveRooms', 'MedInc AveBedrms', 'MedInc Population',\n",
       "       'MedInc AveOccup', 'MedInc Latitude', 'MedInc Longitude',\n",
       "       'HouseAge^2', 'HouseAge AveRooms', 'HouseAge AveBedrms',\n",
       "       'HouseAge Population', 'HouseAge AveOccup', 'HouseAge Latitude',\n",
       "       'HouseAge Longitude', 'AveRooms^2', 'AveRooms AveBedrms',\n",
       "       'AveRooms Population', 'AveRooms AveOccup', 'AveRooms Latitude',\n",
       "       'AveRooms Longitude', 'AveBedrms^2', 'AveBedrms Population',\n",
       "       'AveBedrms AveOccup', 'AveBedrms Latitude', 'AveBedrms Longitude',\n",
       "       'Population^2', 'Population AveOccup', 'Population Latitude',\n",
       "       'Population Longitude', 'AveOccup^2', 'AveOccup Latitude',\n",
       "       'AveOccup Longitude', 'Latitude^2', 'Latitude Longitude',\n",
       "       'Longitude^2'], dtype=object)"
      ]
     },
     "execution_count": 26,
     "metadata": {},
     "output_type": "execute_result"
    }
   ],
   "source": [
    "names = poly.get_feature_names_out(california.feature_names)\n",
    "values = model.coef_#, model.intercept_\n",
    "values = values[0]\n",
    "data = {\n",
    "    \"names\": names,\n",
    "    \"weights\": values\n",
    "}\n",
    "names #dont know why '1' is here"
   ]
  },
  {
   "cell_type": "code",
   "execution_count": 27,
   "id": "88356e15",
   "metadata": {},
   "outputs": [
    {
     "data": {
      "text/html": [
       "<div>\n",
       "<style scoped>\n",
       "    .dataframe tbody tr th:only-of-type {\n",
       "        vertical-align: middle;\n",
       "    }\n",
       "\n",
       "    .dataframe tbody tr th {\n",
       "        vertical-align: top;\n",
       "    }\n",
       "\n",
       "    .dataframe thead th {\n",
       "        text-align: right;\n",
       "    }\n",
       "</style>\n",
       "<table border=\"1\" class=\"dataframe\">\n",
       "  <thead>\n",
       "    <tr style=\"text-align: right;\">\n",
       "      <th></th>\n",
       "      <th>names</th>\n",
       "      <th>weights</th>\n",
       "    </tr>\n",
       "  </thead>\n",
       "  <tbody>\n",
       "    <tr>\n",
       "      <th>0</th>\n",
       "      <td>1</td>\n",
       "      <td>4.325956e-15</td>\n",
       "    </tr>\n",
       "    <tr>\n",
       "      <th>39</th>\n",
       "      <td>AveOccup^2</td>\n",
       "      <td>1.915791e-03</td>\n",
       "    </tr>\n",
       "    <tr>\n",
       "      <th>35</th>\n",
       "      <td>Population^2</td>\n",
       "      <td>3.131218e-03</td>\n",
       "    </tr>\n",
       "    <tr>\n",
       "      <th>30</th>\n",
       "      <td>AveBedrms^2</td>\n",
       "      <td>9.476940e-03</td>\n",
       "    </tr>\n",
       "    <tr>\n",
       "      <th>24</th>\n",
       "      <td>AveRooms^2</td>\n",
       "      <td>1.164254e-02</td>\n",
       "    </tr>\n",
       "  </tbody>\n",
       "</table>\n",
       "</div>"
      ],
      "text/plain": [
       "           names       weights\n",
       "0              1  4.325956e-15\n",
       "39    AveOccup^2  1.915791e-03\n",
       "35  Population^2  3.131218e-03\n",
       "30   AveBedrms^2  9.476940e-03\n",
       "24    AveRooms^2  1.164254e-02"
      ]
     },
     "execution_count": 27,
     "metadata": {},
     "output_type": "execute_result"
    }
   ],
   "source": [
    "#get names of 5 weights closest to 0\n",
    "feature_weights = pd.DataFrame(data, columns= ['names', 'weights'])\n",
    "feature_weights['weights'] = feature_weights['weights'].abs()\n",
    "feature_weights.nsmallest(5, 'weights')"
   ]
  },
  {
   "cell_type": "code",
   "execution_count": null,
   "id": "d11bfc7a",
   "metadata": {},
   "outputs": [],
   "source": []
  },
  {
   "cell_type": "markdown",
   "id": "3e0848b3",
   "metadata": {},
   "source": [
    "## 7a"
   ]
  },
  {
   "cell_type": "code",
   "execution_count": 48,
   "id": "eb615d3f",
   "metadata": {},
   "outputs": [
    {
     "data": {
      "text/html": [
       "<div>\n",
       "<style scoped>\n",
       "    .dataframe tbody tr th:only-of-type {\n",
       "        vertical-align: middle;\n",
       "    }\n",
       "\n",
       "    .dataframe tbody tr th {\n",
       "        vertical-align: top;\n",
       "    }\n",
       "\n",
       "    .dataframe thead th {\n",
       "        text-align: right;\n",
       "    }\n",
       "</style>\n",
       "<table border=\"1\" class=\"dataframe\">\n",
       "  <thead>\n",
       "    <tr style=\"text-align: right;\">\n",
       "      <th></th>\n",
       "      <th>MedInc</th>\n",
       "      <th>HouseAge</th>\n",
       "      <th>AveRooms</th>\n",
       "      <th>Population</th>\n",
       "      <th>AveOccup</th>\n",
       "      <th>Latitude</th>\n",
       "      <th>Longitude</th>\n",
       "      <th>target</th>\n",
       "    </tr>\n",
       "  </thead>\n",
       "  <tbody>\n",
       "    <tr>\n",
       "      <th>0</th>\n",
       "      <td>8.3252</td>\n",
       "      <td>41.0</td>\n",
       "      <td>6.984127</td>\n",
       "      <td>322.0</td>\n",
       "      <td>2.555556</td>\n",
       "      <td>37.88</td>\n",
       "      <td>-122.23</td>\n",
       "      <td>4.526</td>\n",
       "    </tr>\n",
       "    <tr>\n",
       "      <th>1</th>\n",
       "      <td>8.3014</td>\n",
       "      <td>21.0</td>\n",
       "      <td>6.238137</td>\n",
       "      <td>2401.0</td>\n",
       "      <td>2.109842</td>\n",
       "      <td>37.86</td>\n",
       "      <td>-122.22</td>\n",
       "      <td>3.585</td>\n",
       "    </tr>\n",
       "    <tr>\n",
       "      <th>2</th>\n",
       "      <td>7.2574</td>\n",
       "      <td>52.0</td>\n",
       "      <td>8.288136</td>\n",
       "      <td>496.0</td>\n",
       "      <td>2.802260</td>\n",
       "      <td>37.85</td>\n",
       "      <td>-122.24</td>\n",
       "      <td>3.521</td>\n",
       "    </tr>\n",
       "    <tr>\n",
       "      <th>3</th>\n",
       "      <td>5.6431</td>\n",
       "      <td>52.0</td>\n",
       "      <td>5.817352</td>\n",
       "      <td>558.0</td>\n",
       "      <td>2.547945</td>\n",
       "      <td>37.85</td>\n",
       "      <td>-122.25</td>\n",
       "      <td>3.413</td>\n",
       "    </tr>\n",
       "    <tr>\n",
       "      <th>4</th>\n",
       "      <td>3.8462</td>\n",
       "      <td>52.0</td>\n",
       "      <td>6.281853</td>\n",
       "      <td>565.0</td>\n",
       "      <td>2.181467</td>\n",
       "      <td>37.85</td>\n",
       "      <td>-122.25</td>\n",
       "      <td>3.422</td>\n",
       "    </tr>\n",
       "    <tr>\n",
       "      <th>...</th>\n",
       "      <td>...</td>\n",
       "      <td>...</td>\n",
       "      <td>...</td>\n",
       "      <td>...</td>\n",
       "      <td>...</td>\n",
       "      <td>...</td>\n",
       "      <td>...</td>\n",
       "      <td>...</td>\n",
       "    </tr>\n",
       "    <tr>\n",
       "      <th>20635</th>\n",
       "      <td>1.5603</td>\n",
       "      <td>25.0</td>\n",
       "      <td>5.045455</td>\n",
       "      <td>845.0</td>\n",
       "      <td>2.560606</td>\n",
       "      <td>39.48</td>\n",
       "      <td>-121.09</td>\n",
       "      <td>0.781</td>\n",
       "    </tr>\n",
       "    <tr>\n",
       "      <th>20636</th>\n",
       "      <td>2.5568</td>\n",
       "      <td>18.0</td>\n",
       "      <td>6.114035</td>\n",
       "      <td>356.0</td>\n",
       "      <td>3.122807</td>\n",
       "      <td>39.49</td>\n",
       "      <td>-121.21</td>\n",
       "      <td>0.771</td>\n",
       "    </tr>\n",
       "    <tr>\n",
       "      <th>20637</th>\n",
       "      <td>1.7000</td>\n",
       "      <td>17.0</td>\n",
       "      <td>5.205543</td>\n",
       "      <td>1007.0</td>\n",
       "      <td>2.325635</td>\n",
       "      <td>39.43</td>\n",
       "      <td>-121.22</td>\n",
       "      <td>0.923</td>\n",
       "    </tr>\n",
       "    <tr>\n",
       "      <th>20638</th>\n",
       "      <td>1.8672</td>\n",
       "      <td>18.0</td>\n",
       "      <td>5.329513</td>\n",
       "      <td>741.0</td>\n",
       "      <td>2.123209</td>\n",
       "      <td>39.43</td>\n",
       "      <td>-121.32</td>\n",
       "      <td>0.847</td>\n",
       "    </tr>\n",
       "    <tr>\n",
       "      <th>20639</th>\n",
       "      <td>2.3886</td>\n",
       "      <td>16.0</td>\n",
       "      <td>5.254717</td>\n",
       "      <td>1387.0</td>\n",
       "      <td>2.616981</td>\n",
       "      <td>39.37</td>\n",
       "      <td>-121.24</td>\n",
       "      <td>0.894</td>\n",
       "    </tr>\n",
       "  </tbody>\n",
       "</table>\n",
       "<p>20640 rows × 8 columns</p>\n",
       "</div>"
      ],
      "text/plain": [
       "       MedInc  HouseAge  AveRooms  Population  AveOccup  Latitude  Longitude  \\\n",
       "0      8.3252      41.0  6.984127       322.0  2.555556     37.88    -122.23   \n",
       "1      8.3014      21.0  6.238137      2401.0  2.109842     37.86    -122.22   \n",
       "2      7.2574      52.0  8.288136       496.0  2.802260     37.85    -122.24   \n",
       "3      5.6431      52.0  5.817352       558.0  2.547945     37.85    -122.25   \n",
       "4      3.8462      52.0  6.281853       565.0  2.181467     37.85    -122.25   \n",
       "...       ...       ...       ...         ...       ...       ...        ...   \n",
       "20635  1.5603      25.0  5.045455       845.0  2.560606     39.48    -121.09   \n",
       "20636  2.5568      18.0  6.114035       356.0  3.122807     39.49    -121.21   \n",
       "20637  1.7000      17.0  5.205543      1007.0  2.325635     39.43    -121.22   \n",
       "20638  1.8672      18.0  5.329513       741.0  2.123209     39.43    -121.32   \n",
       "20639  2.3886      16.0  5.254717      1387.0  2.616981     39.37    -121.24   \n",
       "\n",
       "       target  \n",
       "0       4.526  \n",
       "1       3.585  \n",
       "2       3.521  \n",
       "3       3.413  \n",
       "4       3.422  \n",
       "...       ...  \n",
       "20635   0.781  \n",
       "20636   0.771  \n",
       "20637   0.923  \n",
       "20638   0.847  \n",
       "20639   0.894  \n",
       "\n",
       "[20640 rows x 8 columns]"
      ]
     },
     "execution_count": 48,
     "metadata": {},
     "output_type": "execute_result"
    }
   ],
   "source": [
    "#variance tresholding\n",
    "from sklearn.feature_selection import VarianceThreshold\n",
    "vt = VarianceThreshold(threshold=1)\n",
    "vt.fit(df_cali)\n",
    "mask = vt.get_support()\n",
    "df_cali_var_tresh = df_cali.loc[:,mask] #removing attributes that have variance < 1\n",
    "df_cali_var_tresh #as we can see 'AveBedrms' has been removed\n"
   ]
  },
  {
   "cell_type": "code",
   "execution_count": 49,
   "id": "7f978ee5",
   "metadata": {},
   "outputs": [
    {
     "data": {
      "text/plain": [
       "<AxesSubplot:>"
      ]
     },
     "execution_count": 49,
     "metadata": {},
     "output_type": "execute_result"
    },
    {
     "data": {
      "image/png": "[encoded data removed]",
      "text/plain": [
       "<Figure size 648x504 with 2 Axes>"
      ]
     },
     "metadata": {
      "needs_background": "light"
     },
     "output_type": "display_data"
    }
   ],
   "source": [
    "#correlation based feature selection\n",
    "\n",
    "import seaborn as sns\n",
    "import matplotlib.pyplot as plt\n",
    "plt.figure(figsize=(9,7))\n",
    "correlation_matrix = df_cali.corr()\n",
    "sns.heatmap(correlation_matrix, annot=True, cmap=plt.cm.Reds)"
   ]
  },
  {
   "cell_type": "code",
   "execution_count": 37,
   "id": "026c03c2",
   "metadata": {},
   "outputs": [
    {
     "data": {
      "text/plain": [
       "MedInc    0.688075\n",
       "target    1.000000\n",
       "Name: target, dtype: float64"
      ]
     },
     "execution_count": 37,
     "metadata": {},
     "output_type": "execute_result"
    }
   ],
   "source": [
    "#seleting highly correlated features - correlation higher than 0.5\n",
    "relevant_features = correlation_matrix['target'][abs(correlation_matrix['target'])>0.5]\n",
    "relevant_features #only MedInc is highly correlated enough"
   ]
  },
  {
   "cell_type": "code",
   "execution_count": 38,
   "id": "3522b1a5",
   "metadata": {},
   "outputs": [
    {
     "data": {
      "text/plain": [
       "MedInc      0.688075\n",
       "HouseAge    0.105623\n",
       "AveRooms    0.151948\n",
       "Latitude   -0.144160\n",
       "target      1.000000\n",
       "Name: target, dtype: float64"
      ]
     },
     "execution_count": 38,
     "metadata": {},
     "output_type": "execute_result"
    }
   ],
   "source": [
    "#seleting highly and weakly correlated features - correlation higher than 0.1\n",
    "relevant_features = correlation_matrix['target'][abs(correlation_matrix['target'])>0.1]\n",
    "relevant_features #MedInc, HouseAge, AveRooms, Latitude has been selected\n"
   ]
  },
  {
   "cell_type": "code",
   "execution_count": null,
   "id": "8f4f7766",
   "metadata": {},
   "outputs": [],
   "source": [
    "#"
   ]
  }
 ],
 "metadata": {
  "kernelspec": {
   "display_name": "Python 3.10.4 64-bit",
   "language": "python",
   "name": "python3"
  },
  "language_info": {
   "codemirror_mode": {
    "name": "ipython",
    "version": 3
   },
   "file_extension": ".py",
   "mimetype": "text/x-python",
   "name": "python",
   "nbconvert_exporter": "python",
   "pygments_lexer": "ipython3",
   "version": "3.10.4"
  },
  "vscode": {
   "interpreter": {
    "hash": "f7d1145d77355f259197a0c8a72d9a470aae627a1d0431790d564439afa729d5"
   }
  }
 },
 "nbformat": 4,
 "nbformat_minor": 5
}
